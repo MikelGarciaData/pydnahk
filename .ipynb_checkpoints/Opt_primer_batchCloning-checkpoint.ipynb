{
 "cells": [
  {
   "cell_type": "code",
   "execution_count": 1,
   "id": "45967421-0ab1-4269-b6f2-0dccc2d9a73f",
   "metadata": {},
   "outputs": [],
   "source": [
    "# retrieve plasmid sequence from GenBank\n",
    "import os\n",
    "from pydna.genbank import Genbank\n",
    "from Bio import SeqIO\n",
    "from Bio.Restriction import AllEnzymes\n",
    "from pydna.parsers import parse_snapgene\n",
    "from pydna.amplify import pcr\n",
    "import matplotlib.pyplot as plt\n",
    "import numpy as np\n",
    "import pandas as pd\n",
    "import itertools\n",
    "\n",
    "\n",
    "\n",
    "from toolkit import *"
   ]
  },
  {
   "cell_type": "code",
   "execution_count": 2,
   "id": "5cf87e57-70a1-4f04-8a3d-8802d9f4e444",
   "metadata": {},
   "outputs": [],
   "source": [
    "from pydna.dseqrecord import Dseqrecord\n",
    "from pydna.design import primer_design"
   ]
  },
  {
   "cell_type": "code",
   "execution_count": 3,
   "id": "14956dc0-e335-4341-80cc-8103659129f0",
   "metadata": {},
   "outputs": [],
   "source": [
    "def load_from_genebank(email, sequence):\n",
    "    gb = Genbank(users_email=email)  \n",
    "    seq = gb.nucleotide(sequence)   \n",
    "    return seq"
   ]
  },
  {
   "cell_type": "code",
   "execution_count": 4,
   "id": "df90d57a-9ebf-4c1e-8a19-692332fa83a2",
   "metadata": {},
   "outputs": [],
   "source": [
    "email = \"\""
   ]
  },
  {
   "cell_type": "code",
   "execution_count": 5,
   "id": "35037ee7-ca93-4111-8a4a-93be85e84729",
   "metadata": {
    "scrolled": true
   },
   "outputs": [
    {
     "name": "stdout",
     "output_type": "stream",
     "text": [
      "Descargando CP044122 ...\n",
      "Guardado en data/CP044122.gbff\n",
      "Descargando CP044123 ...\n",
      "Guardado en data/CP044123.gbff\n",
      "Descargando CP044124 ...\n",
      "Guardado en data/CP044124.gbff\n"
     ]
    }
   ],
   "source": [
    "from Bio import Entrez, SeqIO\n",
    "\n",
    "Entrez.email = email  # reemplaza con tu email\n",
    "\n",
    "accessions = [\"CP044122\", \"CP044123\", \"CP044124\"]\n",
    "output_dir = \"data\"\n",
    "\n",
    "import os\n",
    "os.makedirs(output_dir, exist_ok=True)\n",
    "\n",
    "for acc in accessions:\n",
    "    print(f\"Descargando {acc} ...\")\n",
    "    handle = Entrez.efetch(db=\"nuccore\", id=acc, rettype=\"gbwithparts\", retmode=\"text\")\n",
    "    seq_record = SeqIO.read(handle, \"genbank\")\n",
    "    handle.close()\n",
    "    out_path = os.path.join(output_dir, f\"{acc}.gbff\")\n",
    "    with open(out_path, \"w\") as out_f:\n",
    "        SeqIO.write(seq_record, out_f, \"genbank\")\n",
    "    print(f\"Guardado en {out_path}\")\n",
    "\n"
   ]
  },
  {
   "cell_type": "code",
   "execution_count": null,
   "id": "05198320-afe7-4368-9764-25083309c78c",
   "metadata": {},
   "outputs": [],
   "source": []
  },
  {
   "cell_type": "code",
   "execution_count": 6,
   "id": "b36bd01e-19bb-4b1a-aa85-2636b85333e3",
   "metadata": {},
   "outputs": [],
   "source": [
    "def find_all_occurrences(sequence, primer):\n",
    "    positions = []\n",
    "    start = 0\n",
    "    while True:\n",
    "        pos = sequence.find(primer, start)\n",
    "        if pos == -1:\n",
    "            break\n",
    "        positions.append(pos)\n",
    "        start = pos + 1  # continuar búsqueda justo después del match actual\n",
    "    return positions"
   ]
  },
  {
   "cell_type": "code",
   "execution_count": 7,
   "id": "e836ba16-8360-44fa-aa71-b6dcac11161d",
   "metadata": {},
   "outputs": [
    {
     "name": "stdout",
     "output_type": "stream",
     "text": [
      "<class 'Bio.SeqRecord.SeqRecord'>\n",
      "CP044124.1 not found in sequence.\n"
     ]
    }
   ],
   "source": [
    "\n",
    "# Leer el archivo GenBank (puede contener uno o varios registros)\n",
    "gbff_path = \"data/CP044124.gbff\"\n",
    "# describe_genome(gbff_path)\n",
    "\n",
    "primer = \"ATGCGCGTCAGTCGTCATGACTGATTGCTCAGAACG\"  # ejemplo de secuencia primer\n",
    "\n",
    "def get_primer_loci(gbff_path, primer):\n",
    "    records = list(SeqIO.parse(gbff_path, \"genbank\"))\n",
    "    print(type(records[0]))\n",
    "    for record in records:\n",
    "        seq = str(record.seq).upper()\n",
    "        primer = primer.upper()\n",
    "    \n",
    "        if primer in seq:\n",
    "            pos = find_all_occurrences(seq, primer)\n",
    "            print(f\"{record.id} at base pair {pos}.\")\n",
    "        else:\n",
    "            print(f\"{record.id} not found in sequence.\")\n",
    "            pos = None \n",
    "    \n",
    "    return pos\n",
    "\n",
    "\n",
    "get_primer_loci(gbff_path, primer)"
   ]
  },
  {
   "cell_type": "code",
   "execution_count": 8,
   "id": "dd7f1613-8075-425c-aa68-440133677b26",
   "metadata": {},
   "outputs": [
    {
     "name": "stdout",
     "output_type": "stream",
     "text": [
      "Dseqrecord\n",
      "circular: False\n",
      "size: 5995\n",
      "ID: M61151.1\n",
      "Name: ATUAUX\n",
      "Description: Agrobacterium rhizogenes trytophan oxygenase (aux1) and hydrolase (aux2) genes, complete cds\n",
      "Number of features: 6\n",
      "/molecule_type=DNA\n",
      "/topology=linear\n",
      "/data_file_division=BCT\n",
      "/date=23-AUG-1993\n",
      "/accessions=['M61151', 'J03688']\n",
      "/sequence_version=1\n",
      "/keywords=['aux1 gene', 'aux2 gene', 'hydrolase', 'tryptophan oxygenase']\n",
      "/source=Rhizobium rhizogenes (Agrobacterium rhizogenes)\n",
      "/organism=Rhizobium rhizogenes\n",
      "/taxonomy=['Bacteria', 'Pseudomonadati', 'Pseudomonadota', 'Alphaproteobacteria', 'Hyphomicrobiales', 'Rhizobiaceae', 'Rhizobium/Agrobacterium group', 'Rhizobium']\n",
      "/references=[Reference(title='The TR.DNA region carrying the auxin synthesis genes of the Agrobacterium rhizogenes agropine-type pRiA4: Nucleotide sequence analysis and introduction into tobacco plants', ...)]\n",
      "Dseq(-5995)\n",
      "GTCG..CGAC\n",
      "CAGC..GCTG\n",
      "Dseqrecord\n",
      "circular: False\n",
      "size: 1128\n",
      "ID: X51424.1\n",
      "Name: X51424\n",
      "Description: Bacillus subtilis cwlA gene for cell wall hydrolase\n",
      "Number of features: 8\n",
      "/molecule_type=DNA\n",
      "/topology=linear\n",
      "/data_file_division=BCT\n",
      "/date=23-OCT-2008\n",
      "/accessions=['X51424', 'M60054']\n",
      "/sequence_version=1\n",
      "/keywords=['cell wall hydrolase', 'cwlA gene', 'hydrolase']\n",
      "/source=Bacillus subtilis\n",
      "/organism=Bacillus subtilis\n",
      "/taxonomy=['Bacteria', 'Bacillati', 'Bacillota', 'Bacilli', 'Bacillales', 'Bacillaceae', 'Bacillus']\n",
      "/references=[Reference(title='Cloning, sequencing and genetic mapping of a Bacillus subtilis cell wall hydrolase gene', ...), Reference(title='Direct Submission', ...)]\n",
      "Dseq(-1128)\n",
      "GATC..CTGC\n",
      "CTAG..GACG\n",
      "Dseqrecord\n",
      "circular: False\n",
      "size: 957\n",
      "ID: PV006683.1\n",
      "Name: PV006683\n",
      "Description: Burkholderia cepacia strain ZY1 hydrolase (hyd4173) gene, complete cds\n",
      "Number of features: 3\n",
      "/molecule_type=DNA\n",
      "/topology=linear\n",
      "/data_file_division=BCT\n",
      "/date=18-FEB-2025\n",
      "/accessions=['PV006683']\n",
      "/sequence_version=1\n",
      "/keywords=['']\n",
      "/source=Burkholderia cepacia\n",
      "/organism=Burkholderia cepacia\n",
      "/taxonomy=['Bacteria', 'Pseudomonadati', 'Pseudomonadota', 'Betaproteobacteria', 'Burkholderiales', 'Burkholderiaceae', 'Burkholderia', 'Burkholderia cepacia complex']\n",
      "/references=[Reference(title='Direct Submission', ...)]\n",
      "/structured_comment=defaultdict(<class 'dict'>, {'Assembly-Data': {'Sequencing Technology': 'Sanger dideoxy sequencing'}})\n",
      "Dseq(-957)\n",
      "GTGT..CTGA\n",
      "CACA..GACT\n",
      "Dseqrecord\n",
      "circular: False\n",
      "size: 816\n",
      "ID: PV006682.1\n",
      "Name: PV006682\n",
      "Description: Burkholderia cepacia strain ZY1 hydrolase (hyd2191) gene, complete cds\n",
      "Number of features: 3\n",
      "/molecule_type=DNA\n",
      "/topology=linear\n",
      "/data_file_division=BCT\n",
      "/date=18-FEB-2025\n",
      "/accessions=['PV006682']\n",
      "/sequence_version=1\n",
      "/keywords=['']\n",
      "/source=Burkholderia cepacia\n",
      "/organism=Burkholderia cepacia\n",
      "/taxonomy=['Bacteria', 'Pseudomonadati', 'Pseudomonadota', 'Betaproteobacteria', 'Burkholderiales', 'Burkholderiaceae', 'Burkholderia', 'Burkholderia cepacia complex']\n",
      "/references=[Reference(title='Direct Submission', ...)]\n",
      "/structured_comment=defaultdict(<class 'dict'>, {'Assembly-Data': {'Sequencing Technology': 'Sanger dideoxy sequencing'}})\n",
      "Dseq(-816)\n",
      "ATGG..ATAA\n",
      "TACC..TATT\n",
      "Dseqrecord\n",
      "circular: False\n",
      "size: 1983\n",
      "ID: OR455449.1\n",
      "Name: OR455449\n",
      "Description: Rhodococcus sp. D-6 hydrolase (ipcH) gene, partial cds\n",
      "Number of features: 3\n",
      "/molecule_type=DNA\n",
      "/topology=linear\n",
      "/data_file_division=BCT\n",
      "/date=26-JUN-2024\n",
      "/accessions=['OR455449']\n",
      "/sequence_version=1\n",
      "/keywords=['']\n",
      "/source=Rhodococcus sp. D-6\n",
      "/organism=Rhodococcus sp. D-6\n",
      "/taxonomy=['Bacteria', 'Bacillati', 'Actinomycetota', 'Actinomycetes', 'Mycobacteriales', 'Nocardiaceae', 'Rhodococcus']\n",
      "/references=[Reference(title='The novel hydrolase IpcH responsible for the initial isoprocarb degradation step in Rhodococcus sp. D-6', ...), Reference(title='Direct Submission', ...)]\n",
      "/structured_comment=defaultdict(<class 'dict'>, {'Assembly-Data': {'Sequencing Technology': 'Sanger dideoxy sequencing'}})\n",
      "Dseq(-1983)\n",
      "ATGT..ATGA\n",
      "TACA..TACT\n"
     ]
    }
   ],
   "source": [
    "Entrez.email = email\n",
    "\n",
    "\n",
    "# Fetch gene sequences\n",
    "seqs_id = [\"M61151.1\", \"X51424.1\", \"PV006683.1\", \"PV006682.1\", \"OR455449.1\"]\n",
    "gb = Genbank(users_email=email)\n",
    "seqs = [gb.nucleotide(s) for s in seqs_id]\n",
    "\n",
    "for seq in seqs:\n",
    "    print(seq)\n",
    "    # fetch_genome_by_sequence(seq)\n",
    "    "
   ]
  },
  {
   "cell_type": "code",
   "execution_count": 9,
   "id": "6a469c22-ca79-4752-977f-d8855e5a3e43",
   "metadata": {},
   "outputs": [],
   "source": [
    "# Define primer length (typical range 18-22 nt)\n",
    "primer_length = 20"
   ]
  },
  {
   "cell_type": "code",
   "execution_count": 10,
   "id": "93e51f71-9449-4201-972e-dbae536efdeb",
   "metadata": {},
   "outputs": [
    {
     "name": "stdout",
     "output_type": "stream",
     "text": [
      "Forward primer: GTCGACAGTCGCAACAGCAA\n",
      "Reverse primer: GTCGACGTTTGCCGGCGAGG\n",
      "Forward primer: GATCGATTACAAACAATTGAGAA\n",
      "Reverse primer: GCAGATGTTGCTAAAAGTAATT\n",
      "Forward primer: GTGTCGGTCATCGAATCCAC\n",
      "Reverse primer: TCAGCGCGCGCCGGACAGAT\n",
      "Forward primer: ATGGCGCACGGGCTGGGTGG\n",
      "Reverse primer: TTATAAGTCGACATGCGCGTCTCCTTGCTTCGCTGG\n",
      "Forward primer: ATGTGTTGCGAAGATCACCT\n",
      "Reverse primer: TCATCCTGTCATGTCCCTGC\n"
     ]
    }
   ],
   "source": [
    "# Use Primer3 for more sophisticated design (optional):\n",
    "primers = list(map(lambda seq: primer_design(seq, target_tm=55, limit=20), seqs))\n",
    "\n",
    "for primer in primers:\n",
    "    print(\"Forward primer:\", primer.forward_primer.seq)\n",
    "    print(\"Reverse primer:\", primer.reverse_primer.seq)"
   ]
  },
  {
   "cell_type": "code",
   "execution_count": 11,
   "id": "0c9dde27-711f-4148-afdd-2083273341f0",
   "metadata": {},
   "outputs": [
    {
     "name": "stdout",
     "output_type": "stream",
     "text": [
      "Forward primer: ttgaattcGTCGACAGTCGCAACAG\n",
      "Reverse primer: ttgaattcGTCGACGTTTGCCGG\n",
      "Forward primer: ttgaattcGATCGATTACAAACAATTGAGAACGA\n",
      "Reverse primer: ttgaattcGCAGATGTTGCTAAAAGTAATTTCTTAAAC\n",
      "Forward primer: ttgaattcGTGTCGGTCATCGAATCCA\n",
      "Reverse primer: ttgaattcTCAGCGCGCGCC\n",
      "Forward primer: ttgaattcATGGCGCACGGGC\n",
      "Reverse primer: ttgaattcTTATAAGTCGACATGCGCGTC\n",
      "Forward primer: ttgaattcATGTGTTGCGAAGATCACCT\n",
      "Reverse primer: ttgaattcTCATCCTGTCATGTCCCTG\n"
     ]
    }
   ],
   "source": [
    "enzyme_name = \"EcoRI\"\n",
    "\n",
    "enz_seq = AllEnzymes.get(enzyme_name).site.lower()\n",
    "fwds_primer_list = []\n",
    "rvss_primer_list = []\n",
    "fwds_primenz_list = []\n",
    "rvss_primenz_list = []\n",
    "for seq in seqs:\n",
    "    amplicon = primer_design(seq, target_tm=60, limit = 10)\n",
    "    fwd_primer, rvs_primer = amplicon.primers()\n",
    "    fwd_primer_enzyme = \"tt\" + enz_seq + fwd_primer\n",
    "    rvs_primer_enzyme = \"tt\" + enz_seq + rvs_primer\n",
    "\n",
    "    fwds_primer_list.append(fwd_primer)\n",
    "    rvss_primer_list.append(rvs_primer)\n",
    "    \n",
    "    fwds_primenz_list.append(fwd_primer_enzyme)\n",
    "    rvss_primenz_list.append(rvs_primer_enzyme)\n",
    "\n",
    "    print(f\"Forward primer: {fwd_primer_enzyme.seq}\")\n",
    "    print(f\"Reverse primer: {rvs_primer_enzyme.seq}\")"
   ]
  },
  {
   "cell_type": "code",
   "execution_count": 12,
   "id": "b0a65fe0-f23c-4494-a725-fee426a3d92d",
   "metadata": {},
   "outputs": [],
   "source": [
    "def create_primers(seq, enzyme, target_tm, limit):\n",
    "    amplicon = primer_design(seq, target_tm=target_tm, limit = target_tm)\n",
    "    fwd_primer, rvs_primer = amplicon.primers()\n",
    "    fwd_primer_enzyme = \"tt\" + enz_seq + fwd_primer\n",
    "    rvs_primer_enzyme = \"tt\" + enz_seq + rvs_primer\n",
    "\n",
    "    return fwd_primer_enzyme, rvs_primer_enzyme"
   ]
  },
  {
   "cell_type": "code",
   "execution_count": 13,
   "id": "de730d22-fbdf-4789-b341-453c560d6897",
   "metadata": {},
   "outputs": [
    {
     "name": "stdout",
     "output_type": "stream",
     "text": [
      "Forward primer: ttgaattcGTCGACAGTCGCAACAGCAATCGAGGGGTGTTGATCAACCTTGGCCAGTTGCCCTTCGTC\n",
      "Reverse primer: ttgaattcGTCGACGTTTGCCGGCGAGGGCATCGTCTTTCCTCGATTTGAAATTGGGGCCACCGGTGT\n",
      "Forward primer: ttgaattcGATCGATTACAAACAATTGAGAACGAAAAAGAACAGAGTAAGAATAACGCAGACAAAGCT\n",
      "Reverse primer: ttgaattcGCAGATGTTGCTAAAAGTAATTTCTTAAACATGAAATCAATCCCTTTCTTTTAAATTATTTACATGTAAATGATAACATTATGTTCAGACTAGAAAAATAATACTTTTTACTCAAATATTAGAATAATTTTGAACTATCTGTAACAAAATAAACATAAGTATCTCCTTG\n",
      "Forward primer: ttgaattcGTGTCGGTCATCGAATCCACTGACCGAACGAGGCAAGCCGACATGACGCGACACGACATC\n",
      "Reverse primer: ttgaattcTCAGCGCGCGCCGGACAGATGCAGCGTGAACCACTCCACCGCCACCCGGCTCGTTTCGTC\n",
      "Forward primer: ttgaattcATGGCGCACGGGCTGGGTGGAATCAAGGAAATGCGGCTCGATGCCTATGCGCAACGCTTT\n",
      "Reverse primer: ttgaattcTTATAAGTCGACATGCGCGTCTCCTTGCTTCGCTGGAACGTGACGGTGCAGAAATGCCAGCTGGTCGGCGACCAC\n",
      "Forward primer: ttgaattcATGTGTTGCGAAGATCACCTGGTCCCCCCACAAATCCAAAAAATGATTGCGGCCTACCAA\n",
      "Reverse primer: ttgaattcTCATCCTGTCATGTCCCTGCGCGTTGCTATCGACCGATACTTGTAACGTGCTTGGTCGAG\n"
     ]
    }
   ],
   "source": [
    "enz_seq = AllEnzymes.get(enzyme_name).site.lower()\n",
    "primers2 = list(map(lambda seq: create_primers(seq, enz_seq, target_tm=60, limit = 20), seqs))\n",
    "for fwd_primer_enzyme, rvs_primer_enzyme in primers2:\n",
    "    print(f\"Forward primer: {fwd_primer_enzyme.seq}\")\n",
    "    print(f\"Reverse primer: {rvs_primer_enzyme.seq}\")"
   ]
  },
  {
   "cell_type": "code",
   "execution_count": 19,
   "id": "76da7ad7-5906-487e-bb34-7d7cd1cf9208",
   "metadata": {},
   "outputs": [
    {
     "name": "stdout",
     "output_type": "stream",
     "text": [
      "Dseqrecord\n",
      "circular: False\n",
      "size: 5975\n",
      "ID: rifampicinresist\n",
      "Name: rifampicinresist\n",
      "Description: pcr_product_f5995 M61151.1_r5995 M61151.1\n",
      "Database cross-references: BioProject:PRJNA566100, BioSample:SAMN12779969\n",
      "Number of features: 8\n",
      "/molecule_type=DNA\n",
      "Dseq(-5975)\n",
      "GTCG..CGAC\n",
      "CAGC..GCTG\n",
      "Dseqrecord\n",
      "circular: False\n",
      "size: 533875\n",
      "ID: 533875bp\n",
      "Name: 533875bp_PCR_pro\n",
      "Description: pcr_product_r1128 X51424.1_f1128 X51424.1\n",
      "Database cross-references: BioProject:PRJNA224116, BioSample:SAMN50672281, Assembly:GCF_052233195.1\n",
      "Number of features: 1275\n",
      "/molecule_type=DNA\n",
      "Dseq(-533875)\n",
      "GCAG..GATC\n",
      "CGTC..CTAG\n",
      "Error\n",
      "Error\n",
      "Error\n"
     ]
    }
   ],
   "source": [
    "def test_primers(gbff_path, fwd_primer, rvs_primer):\n",
    "    records = list(SeqIO.parse(gbff_path, \"genbank\"))\n",
    "    for record in records:\n",
    "        pcr_product = pcr(fwd_primer, rvs_primer, Dseqrecord(record))\n",
    "        print(pcr_product)\n",
    "\n",
    "\n",
    "gbff_paths = [\"./genomes/CP044124.gbff\",\n",
    "              \"./genomes/GCF_052233195.1_ASM5223319v1_genomic.gbff\", \n",
    "              \"./genomes/GCF_050632355.1_ASM5063235v1_genomic.gbff\", \n",
    "              \"./genomes/GCF_050632355.1_ASM5063235v1_genomic.gbff\", \n",
    "              \"./genomes/GCF_040256695.1_ASM4025669v1_genomic.gbff\"]\n",
    "\n",
    "for gbff_path, fwd_primer, rvs_primer in zip(gbff_paths, fwds_primer_list, rvss_primer_list):\n",
    "    # print(fwd_primer, rvs_primer)\n",
    "    try: \n",
    "        test_primers(gbff_path, fwd_primer, rvs_primer)\n",
    "    except:\n",
    "        print(\"Error\")"
   ]
  },
  {
   "cell_type": "code",
   "execution_count": null,
   "id": "6f6e960a-1791-4fdf-97fe-9bf6d5aa4097",
   "metadata": {},
   "outputs": [],
   "source": [
    "columns = [\"Sequence\", \"Forward Primer\", \"Reverse Primer\"]\n",
    "# seq_col = list(itertools.chain.from_iterable(itertools.repeat(x, 2) for x in seqs_id))\n",
    "# seq_col\n",
    "df = pd.DataFrame({\n",
    "    \"Sequence\": seqs_id,\n",
    "    \"Forward Primer\": fwds_primer_list,\n",
    "    \"Reverse Primer\": rvss_primer_list\n",
    "})\n",
    "\n",
    "df.head()"
   ]
  },
  {
   "cell_type": "code",
   "execution_count": null,
   "id": "76c53ddd-c68e-4262-98e0-f6a2bd3a7f5e",
   "metadata": {},
   "outputs": [],
   "source": [
    "if not os.path.isdir(\"results\"):\n",
    "    os.mkdir(\"results\")\n",
    "\n",
    "df.to_csv(\"./results/gene_primers.csv\", index=False, encoding=\"utf-8\")"
   ]
  },
  {
   "cell_type": "code",
   "execution_count": null,
   "id": "c3a7e4cd-71ab-4767-9df5-06b2a4bdefb4",
   "metadata": {},
   "outputs": [],
   "source": []
  },
  {
   "cell_type": "code",
   "execution_count": null,
   "id": "f1cb9bd6-5e1c-470e-9b6e-779cdabad983",
   "metadata": {},
   "outputs": [],
   "source": []
  },
  {
   "cell_type": "code",
   "execution_count": null,
   "id": "be0c9a08-e903-40f6-9f7a-46cac209ce06",
   "metadata": {},
   "outputs": [],
   "source": []
  }
 ],
 "metadata": {
  "kernelspec": {
   "display_name": "Python 3 (ipykernel)",
   "language": "python",
   "name": "python3"
  },
  "language_info": {
   "codemirror_mode": {
    "name": "ipython",
    "version": 3
   },
   "file_extension": ".py",
   "mimetype": "text/x-python",
   "name": "python",
   "nbconvert_exporter": "python",
   "pygments_lexer": "ipython3",
   "version": "3.13.5"
  }
 },
 "nbformat": 4,
 "nbformat_minor": 5
}
