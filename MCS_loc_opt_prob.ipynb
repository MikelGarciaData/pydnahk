{
 "cells": [
  {
   "cell_type": "code",
   "execution_count": 1,
   "id": "e107f3a5-52b2-4e0b-ab04-d0f78490c7ab",
   "metadata": {},
   "outputs": [],
   "source": [
    "# retrieve plasmid sequence from GenBank\n",
    "from pydna.genbank import Genbank\n",
    "from Bio import SeqIO\n",
    "from Bio.Restriction import AllEnzymes\n",
    "from pydna.parsers import parse_snapgene\n",
    "import matplotlib.pyplot as plt\n",
    "import numpy as np\n",
    "import itertools\n",
    "import seaborn as sns\n",
    "\n",
    "from snapgene_reader import snapgene_file_to_dict, snapgene_file_to_seqrecord\n",
    "from toolkit import *"
   ]
  },
  {
   "cell_type": "code",
   "execution_count": 2,
   "id": "6563a70c-7a73-41ee-8c4c-9c2ad631e2f4",
   "metadata": {},
   "outputs": [],
   "source": [
    "email = \"mikelgarciadata@gmail.com\""
   ]
  },
  {
   "cell_type": "code",
   "execution_count": 3,
   "id": "eaf98e17-b934-4312-93d1-1eae2fdd950d",
   "metadata": {},
   "outputs": [],
   "source": [
    "seqs_id = [\"M61151.1\", \"X51424.1\", \"PV006683.1\", \"PV006682.1\", \"OR455449.1\"]\n",
    "# Create a Dseq object\n",
    "seqs = []\n",
    "for seq in seqs_id:\n",
    "    seqs.append(load_from_genebank(email, seq))"
   ]
  },
  {
   "cell_type": "code",
   "execution_count": 4,
   "id": "dda64d91-0dc7-4f13-8f27-a321cbc9c99b",
   "metadata": {},
   "outputs": [
    {
     "name": "stdout",
     "output_type": "stream",
     "text": [
      "feature         start end    notes\n",
      "promoter             0  5420 ['promoter for bacteriophage T7 RNA polymerase']\n",
      "protein_bind         2    27 ['The lac repressor binds to the lac operator to inhibit transcription in E. coli. This inhibition can be relieved by adding lactose or isopropyl-β-D-thiogalactopyranoside (IPTG).']\n",
      "RBS                 57    63 ['ribosome binding site']\n",
      "misc_feature        68   168 ['multiple cloning site #1']\n",
      "CDS                 70    73 None\n",
      "CDS                 82   100 None\n",
      "primer_bind        188   208 None\n",
      "primer_bind        188   208 None\n",
      "promoter           213   232 ['promoter for bacteriophage T7 RNA polymerase']\n",
      "protein_bind       232   257 ['The lac repressor binds to the lac operator to inhibit transcription in E. coli. This inhibition can be relieved by adding lactose or isopropyl-β-D-thiogalactopyranoside (IPTG).']\n",
      "RBS                285   291 ['ribosome binding site']\n",
      "misc_feature       296   438 ['multiple cloning site #2']\n",
      "CDS                299   302 None\n",
      "CDS                365   410 None\n",
      "primer_bind        447   466 None\n",
      "terminator         461   509 ['transcription terminator for bacteriophage T7 RNA polymerase']\n",
      "rep_origin         545  1001 ['f1 bacteriophage origin of replication; arrow indicates direction of (+) strand synthesis']\n",
      "CDS               1115  1976 ['confers resistance to ampicillin, carbenicillin, and related antibiotics']\n",
      "promoter          1976  2069 None\n",
      "rep_origin        2149  2738 ['high-copy-number ColE1/pMB1/pBR322/pUC origin of replication']\n",
      "CDS               3167  3359 None\n",
      "CDS               3930  5013 ['The lac repressor binds to the lac operator to inhibit transcription in E. coli. This inhibition can be relieved by adding lactose or isopropyl-β-D-thiogalactopyranoside (IPTG).']\n",
      "promoter          5013  5091 ['']\n",
      "primer_bind       5156  5166 None\n",
      "primer_bind       5357  5373 None\n"
     ]
    }
   ],
   "source": [
    "file_path = './data/pETDuet-1.dna'\n",
    "sg_plasmid = parse_snapgene(file_path)[0]\n",
    "# sg_plasmid.features\n",
    "\n",
    "feature_table(sg_plasmid)"
   ]
  },
  {
   "cell_type": "code",
   "execution_count": 5,
   "id": "e3fd7fd6-1e2d-4840-97a2-7ab50a765bc7",
   "metadata": {},
   "outputs": [],
   "source": [
    "# Get RBS\n",
    "rbs_list = list(filter(lambda feat: feat.type=='RBS', sg_plasmid.features))\n",
    "rbs_point = list(map(lambda x: x.location.start, rbs_list))"
   ]
  },
  {
   "cell_type": "code",
   "execution_count": 6,
   "id": "c0228824-4d24-4372-9e3a-a68ee24d0125",
   "metadata": {},
   "outputs": [
    {
     "data": {
      "text/plain": [
       "[ExactPosition(0),\n",
       " ExactPosition(213),\n",
       " ExactPosition(5013),\n",
       " ExactPosition(1976)]"
      ]
     },
     "execution_count": 6,
     "metadata": {},
     "output_type": "execute_result"
    }
   ],
   "source": [
    "# Get Promoters\n",
    "prom_list = list(filter(lambda feat: feat.type=='promoter', sg_plasmid.features))\n",
    "prom_point = list(map(lambda x: x.location.start, prom_list))\n",
    "prom_point"
   ]
  },
  {
   "cell_type": "code",
   "execution_count": 7,
   "id": "3926a7e5-aaf4-4796-adb3-a74a50481b64",
   "metadata": {},
   "outputs": [
    {
     "data": {
      "text/plain": [
       "[ExactPosition(461)]"
      ]
     },
     "execution_count": 7,
     "metadata": {},
     "output_type": "execute_result"
    }
   ],
   "source": [
    "# Get Terminator\n",
    "ter_list = list(filter(lambda feat: feat.type=='terminator', sg_plasmid.features))\n",
    "ter_point = list(map(lambda x: x.location.start, ter_list))\n",
    "ter_point"
   ]
  },
  {
   "cell_type": "code",
   "execution_count": 8,
   "id": "d760daca-856e-46a0-8e14-6cc8d32dfb95",
   "metadata": {},
   "outputs": [
    {
     "data": {
      "text/plain": [
       "[ExactPosition(296), ExactPosition(68)]"
      ]
     },
     "execution_count": 8,
     "metadata": {},
     "output_type": "execute_result"
    }
   ],
   "source": [
    "# Get MCS\n",
    "mcs_list = list(filter(lambda feat: feat.type=='misc_feature', sg_plasmid.features))\n",
    "mcs_point = list(map(lambda x: x.location.start, mcs_list))\n",
    "mcs_point"
   ]
  },
  {
   "cell_type": "code",
   "execution_count": null,
   "id": "f352ce09-07ff-40db-9758-3bcda1516551",
   "metadata": {},
   "outputs": [],
   "source": []
  },
  {
   "cell_type": "code",
   "execution_count": 9,
   "id": "967a63f2-f3f7-49fa-bf14-6550fd4744fc",
   "metadata": {},
   "outputs": [],
   "source": [
    "# plasmid = load_from_genebank(email, sequence=\"PP098729.1\")"
   ]
  },
  {
   "cell_type": "code",
   "execution_count": null,
   "id": "d16f593d-bcd2-4f0e-9c7e-131f65cf10e1",
   "metadata": {},
   "outputs": [],
   "source": []
  },
  {
   "cell_type": "code",
   "execution_count": 10,
   "id": "a5c3e79d-77ed-45c0-b9c0-efc2621bdb46",
   "metadata": {},
   "outputs": [
    {
     "name": "stdout",
     "output_type": "stream",
     "text": [
      "0.017016207938061002\n"
     ]
    },
    {
     "data": {
      "image/png": "[encoded data removed]",
      "text/plain": [
       "<Figure size 640x480 with 1 Axes>"
      ]
     },
     "metadata": {},
     "output_type": "display_data"
    }
   ],
   "source": [
    "# plasmid.annotations\n",
    "cut_sites = cut_enzyme_info(sg_plasmid.seq)\n",
    "len(cut_sites.keys())\n",
    "\n",
    "# Extraemos los puntos de corte\n",
    "cut_points = list(cut_sites.values())\n",
    "\n",
    "# print(cut_points)\n",
    "\n",
    "#cut_points = list(set(itertools.chain.from_iterable(cut_points)))\n",
    "cut_points = list(itertools.chain.from_iterable(cut_points))\n",
    "print(400/len(cut_points))\n",
    "# print(cut_points)\n",
    "\n",
    "plt.hist(cut_points, bins=100, edgecolor='black', label=\"Cuts\")\n",
    "plt.scatter(rbs_point, np.ones(len(rbs_point))*40, c=\"red\", label=\"RBS\")\n",
    "plt.scatter(prom_point, np.ones(len(prom_point))*25, c=\"orange\", label=\"Promoter\")\n",
    "plt.scatter(mcs_point, np.ones(len(mcs_point))*15, c=\"green\", label=\"MCS\")\n",
    "plt.scatter(ter_point, np.ones(len(ter_point))*30, c=\"white\", label=\"Terminator\")\n",
    "plt.xlabel('Cutting site')\n",
    "plt.ylabel('Frequency')\n",
    "plt.title('All cutting sites in the plasmid')\n",
    "plt.legend()\n",
    "plt.show()"
   ]
  },
  {
   "cell_type": "markdown",
   "id": "377dbc7c-ad07-447b-9ce4-3674b7cdd1d2",
   "metadata": {},
   "source": [
    "For the plot up you should count how many enzymes cut within the same region, and not how many cuts the enzymes do.\n",
    "Look at the frequency of enzymes instead of the frequence of cuts"
   ]
  },
  {
   "cell_type": "code",
   "execution_count": 11,
   "id": "3008e484-fddf-4a5d-b28a-f41ab8f18748",
   "metadata": {},
   "outputs": [],
   "source": [
    "# mcs_list = list(filter(lambda feat: feat.type=='misc_feature', sg_plasmid.features))\n",
    "# Find a way to integrate this lambda expresion inside the function, need [[mcs, enz1], [mcs, enz1]]\n",
    "\n",
    "mcs_enz_cut  = get_mcs_cuts(sg_plasmid)\n",
    "mcs1_cez, mcs2_cez = mcs_enz_cut\n",
    "#all_mcs_enz = \n",
    "all_mcs_enz = set(mcs1_cez[\"enzymes\"] + mcs2_cez[\"enzymes\"])"
   ]
  },
  {
   "cell_type": "code",
   "execution_count": 12,
   "id": "8f962279-065e-4745-962f-5b7e22feb33b",
   "metadata": {},
   "outputs": [],
   "source": [
    "non_mcs_regions = get_non_mcs_regions(sg_plasmid)"
   ]
  },
  {
   "cell_type": "code",
   "execution_count": 13,
   "id": "32068ed2-480a-4b61-b039-8246e0350da9",
   "metadata": {},
   "outputs": [
    {
     "name": "stdout",
     "output_type": "stream",
     "text": [
      "[Dseq(-5050)\n",
      "CTGC..TATA\n",
      "GACG..ATAT, Dseq(-128)\n",
      "TCGA..TATA\n",
      "AGCT..ATAT]\n"
     ]
    }
   ],
   "source": [
    "print(non_mcs_regions)\n",
    "\n",
    "non_mcs_enz = []\n",
    "for region in non_mcs_regions:\n",
    "    non_mcs_enz+=(list(cut_enzyme_info(non_mcs_regions[0]).keys()))\n",
    "    \n",
    "mcs_xpecific_cez1 = list(set(mcs1_cez[\"enzymes\"]) - set(non_mcs_enz))\n",
    "mcs_xpecific_cez2 = list(set(mcs2_cez[\"enzymes\"]) - set(non_mcs_enz))"
   ]
  },
  {
   "cell_type": "code",
   "execution_count": 17,
   "id": "b22a8985-6100-4f60-a073-5833dc9ea3a8",
   "metadata": {},
   "outputs": [
    {
     "data": {
      "text/plain": [
       "Dseq(-5995)\n",
       "GTCG..CGAC\n",
       "CAGC..GCTG"
      ]
     },
     "execution_count": 17,
     "metadata": {},
     "output_type": "execute_result"
    }
   ],
   "source": [
    "seqs[0].seq"
   ]
  },
  {
   "cell_type": "code",
   "execution_count": 21,
   "id": "e8a73451-7639-4e57-8e76-59cc72af8c58",
   "metadata": {},
   "outputs": [
    {
     "name": "stdout",
     "output_type": "stream",
     "text": [
      "info at MCS-1: dict_keys([SlaI, Sfr274I, ZraI, XhoI, BsoBI, AatII, Nbr128II, Ama87I, BstZI, FauNDI, MunI, PspXI, EcoRV, FseI, SciI, Eco32I, BseX3I, BsiHKCI, XmaIII, Nli3877I, Fnu11326IV, Eco52I, MfeI, Eco88I, PaeR7I, BglII, NdeI, EclXI, BmeT110I, AvaI, EagI, RigI])\n",
      "info at MCS-2: dict_keys([PstI, NcoI, EcoICRI, BspMI, AflII, SalI, BstZI, HindIII, Vha464I, BseX3I, BamHI, Acc36I, XmaIII, BstAFI, BspMAI, Eco52I, BfrI, Ecl136II, Psp124BI, SstI, BfuAI, EcoRI, Bsp19I, SacI, MspCI, EclXI, Eco53kI, UcoMSI, BspTI, PgaP73III, EagI, BveI])\n",
      "info at MCS-1: dict_keys([FauNDI, MunI, MfeI, BaeI, NdeI])\n",
      "info at MCS-2: dict_keys([HindIII])\n",
      "info at MCS-1: dict_keys([ZraI, AatII, Nbr128II, EcoRV, Eco32I])\n",
      "info at MCS-2: dict_keys([BspMI, SalI, Acc36I, BfuAI, EcoRI, PgaP73III, BveI])\n",
      "info at MCS-1: dict_keys([RgaI, BstZI, KpnI, Acc65I, MunI, EcoRV, Eco32I, BseX3I, XmaIII, SfaAI, Eco52I, MfeI, AsiSI, Asp718I, EclXI, SgfI, EagI])\n",
      "info at MCS-2: dict_keys([SalI, BstZI, BseX3I, XmaIII, Eco52I, EclXI, EagI])\n",
      "info at MCS-1: dict_keys([ZraI, AatII, Nbr128II, BstZI, FauNDI, EcoRV, Eco32I, BseX3I, XmaIII, Eco52I, BglII, NdeI, EclXI, EagI])\n",
      "info at MCS-2: dict_keys([NcoI, AflII, SalI, BstZI, Vha464I, BseX3I, XmaIII, BstAFI, Eco52I, BfrI, Bsp19I, MspCI, EclXI, BspTI, PgaP73III, EagI])\n"
     ]
    }
   ],
   "source": [
    "for seq in seqs:\n",
    "    info1 = cut_enzyme_info(seq.seq, mcs_xpecific_cez1)\n",
    "    info2 = cut_enzyme_info(seq.seq, mcs_xpecific_cez2)\n",
    "    print(\"info at MCS-1:\", info1.keys())\n",
    "    print(\"info at MCS-2:\", info2.keys())\n",
    "    "
   ]
  },
  {
   "cell_type": "code",
   "execution_count": 20,
   "id": "337c1306-62b4-4129-925a-0c0639c906ad",
   "metadata": {},
   "outputs": [],
   "source": [
    "# enz_cuts1 = cut_enzyme_info(mcs1)\n",
    "# enz_cuts2 = cut_enzyme_info(mcs2)\n",
    "# all_cenzymes = list( set(list(enz_cuts1.keys()) + list(enz_cuts2.keys())) )\n",
    "# print(all_cenzymes)\n",
    "\n",
    "# enz_freq = list(set(itertools.chain.from_iterable(enz_cuts1.values())))\n",
    "# plt.hist(enz_freq, bins=100, edgecolor='black', label=\"Cuts\")\n",
    "# plt.show()\n",
    "\n",
    "# enz_freq = list(set(itertools.chain.from_iterable(enz_cuts2.values())))\n",
    "# plt.hist(enz_freq, bins=100, edgecolor='black', label=\"Cuts\")\n",
    "# plt.show()"
   ]
  },
  {
   "cell_type": "code",
   "execution_count": null,
   "id": "68a21298-1ed7-4d49-98d8-1c4ecfff53f1",
   "metadata": {},
   "outputs": [],
   "source": []
  }
 ],
 "metadata": {
  "kernelspec": {
   "display_name": "Python 3 (ipykernel)",
   "language": "python",
   "name": "python3"
  },
  "language_info": {
   "codemirror_mode": {
    "name": "ipython",
    "version": 3
   },
   "file_extension": ".py",
   "mimetype": "text/x-python",
   "name": "python",
   "nbconvert_exporter": "python",
   "pygments_lexer": "ipython3",
   "version": "3.13.5"
  }
 },
 "nbformat": 4,
 "nbformat_minor": 5
}
