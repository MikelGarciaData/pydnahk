{
 "cells": [
  {
   "cell_type": "code",
   "execution_count": 1,
   "id": "45967421-0ab1-4269-b6f2-0dccc2d9a73f",
   "metadata": {},
   "outputs": [],
   "source": [
    "# retrieve plasmid sequence from GenBank\n",
    "import os\n",
    "from pydna.genbank import Genbank\n",
    "from Bio import SeqIO\n",
    "from Bio.Restriction import AllEnzymes\n",
    "from pydna.parsers import parse_snapgene\n",
    "import matplotlib.pyplot as plt\n",
    "import numpy as np\n",
    "import pandas as pd\n",
    "import itertools"
   ]
  },
  {
   "cell_type": "code",
   "execution_count": 2,
   "id": "f960e634-8ae1-433b-a443-2636a5ecebf4",
   "metadata": {
    "scrolled": true
   },
   "outputs": [
    {
     "data": {
      "text/plain": [
       "EcoRI"
      ]
     },
     "execution_count": 2,
     "metadata": {},
     "output_type": "execute_result"
    }
   ],
   "source": [
    "AllEnzymes.get(\"EcoRI\")"
   ]
  },
  {
   "cell_type": "code",
   "execution_count": 3,
   "id": "5cf87e57-70a1-4f04-8a3d-8802d9f4e444",
   "metadata": {},
   "outputs": [],
   "source": [
    "from pydna.dseqrecord import Dseqrecord\n",
    "from pydna.design import primer_design"
   ]
  },
  {
   "cell_type": "code",
   "execution_count": 4,
   "id": "14956dc0-e335-4341-80cc-8103659129f0",
   "metadata": {},
   "outputs": [],
   "source": [
    "def load_from_genebank(email, sequence):\n",
    "    gb = Genbank(users_email=email)  \n",
    "    seq = gb.nucleotide(sequence)   \n",
    "    return seq"
   ]
  },
  {
   "cell_type": "code",
   "execution_count": 14,
   "id": "df90d57a-9ebf-4c1e-8a19-692332fa83a2",
   "metadata": {},
   "outputs": [],
   "source": [
    "email = \"\""
   ]
  },
  {
   "cell_type": "code",
   "execution_count": 6,
   "id": "cd239255-8e66-4bfb-a34f-f37982229b20",
   "metadata": {},
   "outputs": [],
   "source": [
    "# Some gene sequence\n",
    "seqs_id = [\"M61151.1\", \"X51424.1\", \"PV006683.1\", \"PV006682.1\", \"OR455449.1\"]\n",
    "# Create a Dseq object\n",
    "seqs = []\n",
    "for seq in seqs_id:\n",
    "    seqs.append(load_from_genebank(email, seq))\n"
   ]
  },
  {
   "cell_type": "code",
   "execution_count": 7,
   "id": "6a469c22-ca79-4752-977f-d8855e5a3e43",
   "metadata": {},
   "outputs": [],
   "source": [
    "# Define primer length (typical range 18-22 nt)\n",
    "primer_length = 20"
   ]
  },
  {
   "cell_type": "code",
   "execution_count": 8,
   "id": "93e51f71-9449-4201-972e-dbae536efdeb",
   "metadata": {},
   "outputs": [
    {
     "name": "stdout",
     "output_type": "stream",
     "text": [
      "Forward primer: GTCGACAGTCGCAACAGCAA\n",
      "Reverse primer: GTCGACGTTTGCCGGCGAGG\n",
      "Forward primer: GATCGATTACAAACAATTGAGAA\n",
      "Reverse primer: GCAGATGTTGCTAAAAGTAATT\n",
      "Forward primer: GTGTCGGTCATCGAATCCAC\n",
      "Reverse primer: TCAGCGCGCGCCGGACAGAT\n",
      "Forward primer: ATGGCGCACGGGCTGGGTGG\n",
      "Reverse primer: TTATAAGTCGACATGCGCGTCTCCTTGCTTCGCTGG\n",
      "Forward primer: ATGTGTTGCGAAGATCACCT\n",
      "Reverse primer: TCATCCTGTCATGTCCCTGC\n"
     ]
    }
   ],
   "source": [
    "# Use Primer3 for more sophisticated design (optional):\n",
    "primers = list(map(lambda seq: primer_design(seq, target_tm=55, limit=20), seqs))\n",
    "\n",
    "for primer in primers:\n",
    "    print(\"Forward primer:\", primer.forward_primer.seq)\n",
    "    print(\"Reverse primer:\", primer.reverse_primer.seq)"
   ]
  },
  {
   "cell_type": "code",
   "execution_count": 9,
   "id": "0c9dde27-711f-4148-afdd-2083273341f0",
   "metadata": {},
   "outputs": [
    {
     "name": "stdout",
     "output_type": "stream",
     "text": [
      "Forward primer: ttgaattcGTCGACAGTCGCAACAGCAA\n",
      "Reverse primer: ttgaattcGTCGACGTTTGCCGGCGAGG\n",
      "Forward primer: ttgaattcGATCGATTACAAACAATTGAGAACGA\n",
      "Reverse primer: ttgaattcGCAGATGTTGCTAAAAGTAATTTCTTAAAC\n",
      "Forward primer: ttgaattcGTGTCGGTCATCGAATCCAC\n",
      "Reverse primer: ttgaattcTCAGCGCGCGCCGGACAGAT\n",
      "Forward primer: ttgaattcATGGCGCACGGGCTGGGTGG\n",
      "Reverse primer: ttgaattcTTATAAGTCGACATGCGCGTCTCCTTGCTTCGCTGG\n",
      "Forward primer: ttgaattcATGTGTTGCGAAGATCACCT\n",
      "Reverse primer: ttgaattcTCATCCTGTCATGTCCCTGC\n"
     ]
    }
   ],
   "source": [
    "enzyme_name = \"EcoRI\"\n",
    "\n",
    "enz_seq = AllEnzymes.get(enzyme_name).site.lower()\n",
    "fwds_primer_list = []\n",
    "rvss_primer_list = []\n",
    "for seq in seqs:\n",
    "    amplicon = primer_design(seq, target_tm=60, limit = 20)\n",
    "    fwd_primer, rvs_primer = amplicon.primers()\n",
    "    fwd_primer_enzyme = \"tt\" + enz_seq + fwd_primer\n",
    "    rvs_primer_enzyme = \"tt\" + enz_seq + rvs_primer\n",
    "\n",
    "    fwds_primer_list.append(fwd_primer_enzyme)\n",
    "    rvss_primer_list.append(rvs_primer_enzyme)\n",
    "\n",
    "    print(f\"Forward primer: {fwd_primer_enzyme.seq}\")\n",
    "    print(f\"Reverse primer: {rvs_primer_enzyme.seq}\")"
   ]
  },
  {
   "cell_type": "code",
   "execution_count": 10,
   "id": "b0a65fe0-f23c-4494-a725-fee426a3d92d",
   "metadata": {},
   "outputs": [],
   "source": [
    "def create_primers(seq, enzyme, target_tm, limit):\n",
    "    amplicon = primer_design(seq, target_tm=target_tm, limit = target_tm)\n",
    "    fwd_primer, rvs_primer = amplicon.primers()\n",
    "    fwd_primer_enzyme = \"tt\" + enz_seq + fwd_primer\n",
    "    rvs_primer_enzyme = \"tt\" + enz_seq + rvs_primer\n",
    "\n",
    "    return fwd_primer_enzyme, rvs_primer_enzyme"
   ]
  },
  {
   "cell_type": "code",
   "execution_count": 11,
   "id": "de730d22-fbdf-4789-b341-453c560d6897",
   "metadata": {},
   "outputs": [
    {
     "name": "stdout",
     "output_type": "stream",
     "text": [
      "Forward primer: ttgaattcGTCGACAGTCGCAACAGCAATCGAGGGGTGTTGATCAACCTTGGCCAGTTGCCCTTCGTC\n",
      "Reverse primer: ttgaattcGTCGACGTTTGCCGGCGAGGGCATCGTCTTTCCTCGATTTGAAATTGGGGCCACCGGTGT\n",
      "Forward primer: ttgaattcGATCGATTACAAACAATTGAGAACGAAAAAGAACAGAGTAAGAATAACGCAGACAAAGCT\n",
      "Reverse primer: ttgaattcGCAGATGTTGCTAAAAGTAATTTCTTAAACATGAAATCAATCCCTTTCTTTTAAATTATTTACATGTAAATGATAACATTATGTTCAGACTAGAAAAATAATACTTTTTACTCAAATATTAGAATAATTTTGAACTATCTGTAACAAAATAAACATAAGTATCTCCTTG\n",
      "Forward primer: ttgaattcGTGTCGGTCATCGAATCCACTGACCGAACGAGGCAAGCCGACATGACGCGACACGACATC\n",
      "Reverse primer: ttgaattcTCAGCGCGCGCCGGACAGATGCAGCGTGAACCACTCCACCGCCACCCGGCTCGTTTCGTC\n",
      "Forward primer: ttgaattcATGGCGCACGGGCTGGGTGGAATCAAGGAAATGCGGCTCGATGCCTATGCGCAACGCTTT\n",
      "Reverse primer: ttgaattcTTATAAGTCGACATGCGCGTCTCCTTGCTTCGCTGGAACGTGACGGTGCAGAAATGCCAGCTGGTCGGCGACCAC\n",
      "Forward primer: ttgaattcATGTGTTGCGAAGATCACCTGGTCCCCCCACAAATCCAAAAAATGATTGCGGCCTACCAA\n",
      "Reverse primer: ttgaattcTCATCCTGTCATGTCCCTGCGCGTTGCTATCGACCGATACTTGTAACGTGCTTGGTCGAG\n"
     ]
    }
   ],
   "source": [
    "enz_seq = AllEnzymes.get(enzyme_name).site.lower()\n",
    "primers2 = list(map(lambda seq: create_primers(seq, enz_seq, target_tm=60, limit = 20), seqs))\n",
    "for fwd_primer_enzyme, rvs_primer_enzyme in primers2:\n",
    "    print(f\"Forward primer: {fwd_primer_enzyme.seq}\")\n",
    "    print(f\"Reverse primer: {rvs_primer_enzyme.seq}\")"
   ]
  },
  {
   "cell_type": "code",
   "execution_count": 12,
   "id": "6f6e960a-1791-4fdf-97fe-9bf6d5aa4097",
   "metadata": {},
   "outputs": [
    {
     "data": {
      "text/html": [
       "<div>\n",
       "<style scoped>\n",
       "    .dataframe tbody tr th:only-of-type {\n",
       "        vertical-align: middle;\n",
       "    }\n",
       "\n",
       "    .dataframe tbody tr th {\n",
       "        vertical-align: top;\n",
       "    }\n",
       "\n",
       "    .dataframe thead th {\n",
       "        text-align: right;\n",
       "    }\n",
       "</style>\n",
       "<table border=\"1\" class=\"dataframe\">\n",
       "  <thead>\n",
       "    <tr style=\"text-align: right;\">\n",
       "      <th></th>\n",
       "      <th>Sequence</th>\n",
       "      <th>Forward Primer</th>\n",
       "      <th>Reverse Primer</th>\n",
       "    </tr>\n",
       "  </thead>\n",
       "  <tbody>\n",
       "    <tr>\n",
       "      <th>0</th>\n",
       "      <td>M61151.1</td>\n",
       "      <td>(t, t, g, a, a, t, t, c, G, T, C, G, A, C, A, ...</td>\n",
       "      <td>(t, t, g, a, a, t, t, c, G, T, C, G, A, C, G, ...</td>\n",
       "    </tr>\n",
       "    <tr>\n",
       "      <th>1</th>\n",
       "      <td>X51424.1</td>\n",
       "      <td>(t, t, g, a, a, t, t, c, G, A, T, C, G, A, T, ...</td>\n",
       "      <td>(t, t, g, a, a, t, t, c, G, C, A, G, A, T, G, ...</td>\n",
       "    </tr>\n",
       "    <tr>\n",
       "      <th>2</th>\n",
       "      <td>PV006683.1</td>\n",
       "      <td>(t, t, g, a, a, t, t, c, G, T, G, T, C, G, G, ...</td>\n",
       "      <td>(t, t, g, a, a, t, t, c, T, C, A, G, C, G, C, ...</td>\n",
       "    </tr>\n",
       "    <tr>\n",
       "      <th>3</th>\n",
       "      <td>PV006682.1</td>\n",
       "      <td>(t, t, g, a, a, t, t, c, A, T, G, G, C, G, C, ...</td>\n",
       "      <td>(t, t, g, a, a, t, t, c, T, T, A, T, A, A, G, ...</td>\n",
       "    </tr>\n",
       "    <tr>\n",
       "      <th>4</th>\n",
       "      <td>OR455449.1</td>\n",
       "      <td>(t, t, g, a, a, t, t, c, A, T, G, T, G, T, T, ...</td>\n",
       "      <td>(t, t, g, a, a, t, t, c, T, C, A, T, C, C, T, ...</td>\n",
       "    </tr>\n",
       "  </tbody>\n",
       "</table>\n",
       "</div>"
      ],
      "text/plain": [
       "     Sequence                                     Forward Primer  \\\n",
       "0    M61151.1  (t, t, g, a, a, t, t, c, G, T, C, G, A, C, A, ...   \n",
       "1    X51424.1  (t, t, g, a, a, t, t, c, G, A, T, C, G, A, T, ...   \n",
       "2  PV006683.1  (t, t, g, a, a, t, t, c, G, T, G, T, C, G, G, ...   \n",
       "3  PV006682.1  (t, t, g, a, a, t, t, c, A, T, G, G, C, G, C, ...   \n",
       "4  OR455449.1  (t, t, g, a, a, t, t, c, A, T, G, T, G, T, T, ...   \n",
       "\n",
       "                                      Reverse Primer  \n",
       "0  (t, t, g, a, a, t, t, c, G, T, C, G, A, C, G, ...  \n",
       "1  (t, t, g, a, a, t, t, c, G, C, A, G, A, T, G, ...  \n",
       "2  (t, t, g, a, a, t, t, c, T, C, A, G, C, G, C, ...  \n",
       "3  (t, t, g, a, a, t, t, c, T, T, A, T, A, A, G, ...  \n",
       "4  (t, t, g, a, a, t, t, c, T, C, A, T, C, C, T, ...  "
      ]
     },
     "execution_count": 12,
     "metadata": {},
     "output_type": "execute_result"
    }
   ],
   "source": [
    "columns = [\"Sequence\", \"Forward Primer\", \"Reverse Primer\"]\n",
    "# seq_col = list(itertools.chain.from_iterable(itertools.repeat(x, 2) for x in seqs_id))\n",
    "# seq_col\n",
    "df = pd.DataFrame({\n",
    "    \"Sequence\": seqs_id,\n",
    "    \"Forward Primer\": fwds_primer_list,\n",
    "    \"Reverse Primer\": rvss_primer_list\n",
    "})\n",
    "\n",
    "df.head()"
   ]
  },
  {
   "cell_type": "code",
   "execution_count": 13,
   "id": "76c53ddd-c68e-4262-98e0-f6a2bd3a7f5e",
   "metadata": {},
   "outputs": [],
   "source": [
    "if not os.path.isdir(\"results\"):\n",
    "    os.mkdir(\"results\")\n",
    "\n",
    "df.to_csv(\"./results/gene_primers.csv\", index=False, encoding=\"utf-8\")"
   ]
  },
  {
   "cell_type": "code",
   "execution_count": null,
   "id": "c3a7e4cd-71ab-4767-9df5-06b2a4bdefb4",
   "metadata": {},
   "outputs": [],
   "source": []
  }
 ],
 "metadata": {
  "kernelspec": {
   "display_name": "Python 3 (ipykernel)",
   "language": "python",
   "name": "python3"
  },
  "language_info": {
   "codemirror_mode": {
    "name": "ipython",
    "version": 3
   },
   "file_extension": ".py",
   "mimetype": "text/x-python",
   "name": "python",
   "nbconvert_exporter": "python",
   "pygments_lexer": "ipython3",
   "version": "3.13.5"
  }
 },
 "nbformat": 4,
 "nbformat_minor": 5
}
