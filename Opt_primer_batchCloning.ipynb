{
 "cells": [
  {
   "cell_type": "code",
   "execution_count": 54,
   "id": "45967421-0ab1-4269-b6f2-0dccc2d9a73f",
   "metadata": {},
   "outputs": [],
   "source": [
    "# retrieve plasmid sequence from GenBank\n",
    "from pydna.genbank import Genbank\n",
    "from Bio import SeqIO\n",
    "from Bio.Restriction import AllEnzymes\n",
    "from pydna.parsers import parse_snapgene\n",
    "import matplotlib.pyplot as plt\n",
    "import numpy as np\n",
    "import itertools\n",
    "\n",
    "from snapgene_reader import snapgene_file_to_dict, snapgene_file_to_seqrecord"
   ]
  },
  {
   "cell_type": "code",
   "execution_count": 55,
   "id": "5cf87e57-70a1-4f04-8a3d-8802d9f4e444",
   "metadata": {},
   "outputs": [],
   "source": [
    "from pydna.dseqrecord import Dseqrecord\n",
    "from pydna.design import primer_design"
   ]
  },
  {
   "cell_type": "code",
   "execution_count": 56,
   "id": "14956dc0-e335-4341-80cc-8103659129f0",
   "metadata": {},
   "outputs": [],
   "source": [
    "def load_from_genebank(email, sequence):\n",
    "    gb = Genbank(users_email=email)  \n",
    "    seq = gb.nucleotide(sequence)   \n",
    "    return seq"
   ]
  },
  {
   "cell_type": "code",
   "execution_count": 57,
   "id": "df90d57a-9ebf-4c1e-8a19-692332fa83a2",
   "metadata": {},
   "outputs": [],
   "source": [
    "email = \"\""
   ]
  },
  {
   "cell_type": "code",
   "execution_count": 58,
   "id": "cd239255-8e66-4bfb-a34f-f37982229b20",
   "metadata": {},
   "outputs": [],
   "source": [
    "# Some gene sequence\n",
    "seqs_id = [\"M61151.1\", \"X51424.1\", \"PV006683.1\", \"PV006682.1\", \"OR455449.1\"]\n",
    "# Create a Dseq object\n",
    "seqs = []\n",
    "for seq in seqs_id:\n",
    "    seqs.append(load_from_genebank(email, seq))\n",
    "\n",
    "genes = list(map(lambda seq: Dseqrecord(seq), seqs))"
   ]
  },
  {
   "cell_type": "code",
   "execution_count": 59,
   "id": "6a469c22-ca79-4752-977f-d8855e5a3e43",
   "metadata": {},
   "outputs": [],
   "source": [
    "# Define primer length (typical range 18-22 nt)\n",
    "primer_length = 20"
   ]
  },
  {
   "cell_type": "code",
   "execution_count": 60,
   "id": "738e40ab-2010-46ca-afb3-1bfbef66a66f",
   "metadata": {},
   "outputs": [],
   "source": [
    "# Forward primer: first 20 nt\n",
    "fwd_primers = list(map(lambda gene: gene[:primer_length], genes))"
   ]
  },
  {
   "cell_type": "code",
   "execution_count": 61,
   "id": "d4050b7d-9fd0-4f99-b598-10df9ee3c86e",
   "metadata": {},
   "outputs": [],
   "source": [
    "# Reverse primer: last 20 nt, reverse complement\n",
    "rev_primers = list(map(lambda gene: gene[-primer_length:].rc(), genes))"
   ]
  },
  {
   "cell_type": "code",
   "execution_count": 62,
   "id": "1acccff9-792a-4aa2-9859-981658181038",
   "metadata": {},
   "outputs": [
    {
     "name": "stdout",
     "output_type": "stream",
     "text": [
      "Forward primer: Dseqrecord\n",
      "circular: False\n",
      "size: 20\n",
      "ID: part_M611511\n",
      "Name: part_ATUAUX\n",
      "Description: Agrobacterium rhizogenes trytophan oxygenase (aux1) and hydrolase (aux2) genes, complete cds\n",
      "Number of features: 0\n",
      "/molecule_type=DNA\n",
      "/topology=linear\n",
      "/data_file_division=BCT\n",
      "/date=23-AUG-1993\n",
      "/accessions=['M61151', 'J03688']\n",
      "/sequence_version=1\n",
      "/keywords=['aux1 gene', 'aux2 gene', 'hydrolase', 'tryptophan oxygenase']\n",
      "/source=Rhizobium rhizogenes (Agrobacterium rhizogenes)\n",
      "/organism=Rhizobium rhizogenes\n",
      "/taxonomy=['Bacteria', 'Pseudomonadati', 'Pseudomonadota', 'Alphaproteobacteria', 'Hyphomicrobiales', 'Rhizobiaceae', 'Rhizobium/Agrobacterium group', 'Rhizobium']\n",
      "/references=[Reference(title='The TR.DNA region carrying the auxin synthesis genes of the Agrobacterium rhizogenes agropine-type pRiA4: Nucleotide sequence analysis and introduction into tobacco plants', ...)]\n",
      "Dseq(-20)\n",
      "GTCGACAGTCGCAACAGCAA\n",
      "CAGCTGTCAGCGTTGTCGTT\n",
      "Reverse primer: Dseqrecord\n",
      "circular: False\n",
      "size: 20\n",
      "ID: part_M611511_rc\n",
      "Name: part_ATUAUX_rc\n",
      "Description: Agrobacterium rhizogenes trytophan oxygenase (aux1) and hydrolase (aux2) genes, complete cds_rc\n",
      "Number of features: 0\n",
      "/molecule_type=DNA\n",
      "Dseq(-20)\n",
      "GTCGACGTTTGCCGGCGAGG\n",
      "CAGCTGCAAACGGCCGCTCC\n",
      "Forward primer: Dseqrecord\n",
      "circular: False\n",
      "size: 20\n",
      "ID: part_X514241\n",
      "Name: part_X51424\n",
      "Description: Bacillus subtilis cwlA gene for cell wall hydrolase\n",
      "Number of features: 0\n",
      "/molecule_type=DNA\n",
      "/topology=linear\n",
      "/data_file_division=BCT\n",
      "/date=23-OCT-2008\n",
      "/accessions=['X51424', 'M60054']\n",
      "/sequence_version=1\n",
      "/keywords=['cell wall hydrolase', 'cwlA gene', 'hydrolase']\n",
      "/source=Bacillus subtilis\n",
      "/organism=Bacillus subtilis\n",
      "/taxonomy=['Bacteria', 'Bacillati', 'Bacillota', 'Bacilli', 'Bacillales', 'Bacillaceae', 'Bacillus']\n",
      "/references=[Reference(title='Cloning, sequencing and genetic mapping of a Bacillus subtilis cell wall hydrolase gene', ...), Reference(title='Direct Submission', ...)]\n",
      "Dseq(-20)\n",
      "GATCGATTACAAACAATTGA\n",
      "CTAGCTAATGTTTGTTAACT\n",
      "Reverse primer: Dseqrecord\n",
      "circular: False\n",
      "size: 20\n",
      "ID: part_X514241_rc\n",
      "Name: part_X51424_rc\n",
      "Description: Bacillus subtilis cwlA gene for cell wall hydrolase_rc\n",
      "Number of features: 0\n",
      "/molecule_type=DNA\n",
      "Dseq(-20)\n",
      "GCAGATGTTGCTAAAAGTAA\n",
      "CGTCTACAACGATTTTCATT\n",
      "Forward primer: Dseqrecord\n",
      "circular: False\n",
      "size: 20\n",
      "ID: part_PV0066831\n",
      "Name: part_PV006683\n",
      "Description: Burkholderia cepacia strain ZY1 hydrolase (hyd4173) gene, complete cds\n",
      "Number of features: 0\n",
      "/molecule_type=DNA\n",
      "/topology=linear\n",
      "/data_file_division=BCT\n",
      "/date=18-FEB-2025\n",
      "/accessions=['PV006683']\n",
      "/sequence_version=1\n",
      "/keywords=['']\n",
      "/source=Burkholderia cepacia\n",
      "/organism=Burkholderia cepacia\n",
      "/taxonomy=['Bacteria', 'Pseudomonadati', 'Pseudomonadota', 'Betaproteobacteria', 'Burkholderiales', 'Burkholderiaceae', 'Burkholderia', 'Burkholderia cepacia complex']\n",
      "/references=[Reference(title='Direct Submission', ...)]\n",
      "/structured_comment=defaultdict(<class 'dict'>, {'Assembly-Data': {'Sequencing Technology': 'Sanger dideoxy sequencing'}})\n",
      "Dseq(-20)\n",
      "GTGTCGGTCATCGAATCCAC\n",
      "CACAGCCAGTAGCTTAGGTG\n",
      "Reverse primer: Dseqrecord\n",
      "circular: False\n",
      "size: 20\n",
      "ID: part_PV0066831_rc\n",
      "Name: part_PV006683_rc\n",
      "Description: Burkholderia cepacia strain ZY1 hydrolase (hyd4173) gene, complete cds_rc\n",
      "Number of features: 0\n",
      "/molecule_type=DNA\n",
      "Dseq(-20)\n",
      "TCAGCGCGCGCCGGACAGAT\n",
      "AGTCGCGCGCGGCCTGTCTA\n",
      "Forward primer: Dseqrecord\n",
      "circular: False\n",
      "size: 20\n",
      "ID: part_PV0066821\n",
      "Name: part_PV006682\n",
      "Description: Burkholderia cepacia strain ZY1 hydrolase (hyd2191) gene, complete cds\n",
      "Number of features: 0\n",
      "/molecule_type=DNA\n",
      "/topology=linear\n",
      "/data_file_division=BCT\n",
      "/date=18-FEB-2025\n",
      "/accessions=['PV006682']\n",
      "/sequence_version=1\n",
      "/keywords=['']\n",
      "/source=Burkholderia cepacia\n",
      "/organism=Burkholderia cepacia\n",
      "/taxonomy=['Bacteria', 'Pseudomonadati', 'Pseudomonadota', 'Betaproteobacteria', 'Burkholderiales', 'Burkholderiaceae', 'Burkholderia', 'Burkholderia cepacia complex']\n",
      "/references=[Reference(title='Direct Submission', ...)]\n",
      "/structured_comment=defaultdict(<class 'dict'>, {'Assembly-Data': {'Sequencing Technology': 'Sanger dideoxy sequencing'}})\n",
      "Dseq(-20)\n",
      "ATGGCGCACGGGCTGGGTGG\n",
      "TACCGCGTGCCCGACCCACC\n",
      "Reverse primer: Dseqrecord\n",
      "circular: False\n",
      "size: 20\n",
      "ID: part_PV0066821_rc\n",
      "Name: part_PV006682_rc\n",
      "Description: Burkholderia cepacia strain ZY1 hydrolase (hyd2191) gene, complete cds_rc\n",
      "Number of features: 0\n",
      "/molecule_type=DNA\n",
      "Dseq(-20)\n",
      "TTATAAGTCGACATGCGCGT\n",
      "AATATTCAGCTGTACGCGCA\n",
      "Forward primer: Dseqrecord\n",
      "circular: False\n",
      "size: 20\n",
      "ID: part_OR4554491\n",
      "Name: part_OR455449\n",
      "Description: Rhodococcus sp. D-6 hydrolase (ipcH) gene, partial cds\n",
      "Number of features: 0\n",
      "/molecule_type=DNA\n",
      "/topology=linear\n",
      "/data_file_division=BCT\n",
      "/date=26-JUN-2024\n",
      "/accessions=['OR455449']\n",
      "/sequence_version=1\n",
      "/keywords=['']\n",
      "/source=Rhodococcus sp. D-6\n",
      "/organism=Rhodococcus sp. D-6\n",
      "/taxonomy=['Bacteria', 'Bacillati', 'Actinomycetota', 'Actinomycetes', 'Mycobacteriales', 'Nocardiaceae', 'Rhodococcus']\n",
      "/references=[Reference(title='The novel hydrolase IpcH responsible for the initial isoprocarb degradation step in Rhodococcus sp. D-6', ...), Reference(title='Direct Submission', ...)]\n",
      "/structured_comment=defaultdict(<class 'dict'>, {'Assembly-Data': {'Sequencing Technology': 'Sanger dideoxy sequencing'}})\n",
      "Dseq(-20)\n",
      "ATGTGTTGCGAAGATCACCT\n",
      "TACACAACGCTTCTAGTGGA\n",
      "Reverse primer: Dseqrecord\n",
      "circular: False\n",
      "size: 20\n",
      "ID: part_OR4554491_rc\n",
      "Name: part_OR455449_rc\n",
      "Description: Rhodococcus sp. D-6 hydrolase (ipcH) gene, partial cds_rc\n",
      "Number of features: 0\n",
      "/molecule_type=DNA\n",
      "Dseq(-20)\n",
      "TCATCCTGTCATGTCCCTGC\n",
      "AGTAGGACAGTACAGGGACG\n"
     ]
    }
   ],
   "source": [
    "for fwd_primer, rev_primer in zip(fwd_primers, rev_primers):\n",
    "    print(\"Forward primer:\", fwd_primer)\n",
    "    print(\"Reverse primer:\", rev_primer)"
   ]
  },
  {
   "cell_type": "code",
   "execution_count": 32,
   "id": "b6ad722d-05ee-4c0a-8cc0-5f4083425af6",
   "metadata": {},
   "outputs": [
    {
     "data": {
      "text/plain": [
       "Dseqrecord(-41)"
      ]
     },
     "execution_count": 32,
     "metadata": {},
     "output_type": "execute_result"
    }
   ],
   "source": [
    "gene"
   ]
  },
  {
   "cell_type": "code",
   "execution_count": 43,
   "id": "93e51f71-9449-4201-972e-dbae536efdeb",
   "metadata": {},
   "outputs": [
    {
     "name": "stdout",
     "output_type": "stream",
     "text": [
      "ATGCGTACGTTAGCTAG\n",
      "TAGCTAGCTAGCTACGC\n"
     ]
    }
   ],
   "source": [
    "# Or use Primer3 for more sophisticated design (optional):\n",
    "gene\n",
    "primers = primer_design(gene)\n",
    "# Design primers with default parameters (Tm, GC content, etc.)\n",
    "# primers = primer3.design_primers()\n",
    "print(primers.forward_primer.seq)\n",
    "print(primers.reverse_primer.seq)\n",
    "# print(\"Primer3 forward primer:\", primers['FWDPRIMER'])\n",
    "# print(\"Primer3 reverse primer:\", primers['REVPRIMER'])"
   ]
  },
  {
   "cell_type": "code",
   "execution_count": null,
   "id": "6f6e960a-1791-4fdf-97fe-9bf6d5aa4097",
   "metadata": {},
   "outputs": [],
   "source": []
  }
 ],
 "metadata": {
  "kernelspec": {
   "display_name": "Python 3 (ipykernel)",
   "language": "python",
   "name": "python3"
  },
  "language_info": {
   "codemirror_mode": {
    "name": "ipython",
    "version": 3
   },
   "file_extension": ".py",
   "mimetype": "text/x-python",
   "name": "python",
   "nbconvert_exporter": "python",
   "pygments_lexer": "ipython3",
   "version": "3.13.5"
  }
 },
 "nbformat": 4,
 "nbformat_minor": 5
}
