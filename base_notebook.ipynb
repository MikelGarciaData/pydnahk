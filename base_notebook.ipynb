{
 "cells": [
  {
   "cell_type": "code",
   "execution_count": 2,
   "id": "e107f3a5-52b2-4e0b-ab04-d0f78490c7ab",
   "metadata": {},
   "outputs": [],
   "source": [
    "# retrieve plasmid sequence from GenBank\n",
    "from pydna.genbank import Genbank\n",
    "from Bio import SeqIO\n",
    "from Bio.Restriction import AllEnzymes\n",
    "from pydna.parsers import parse_snapgene\n",
    "\n",
    "from snapgene_reader import snapgene_file_to_dict, snapgene_file_to_seqrecord"
   ]
  },
  {
   "cell_type": "code",
   "execution_count": 3,
   "id": "6563a70c-7a73-41ee-8c4c-9c2ad631e2f4",
   "metadata": {},
   "outputs": [],
   "source": [
    "email = \"\""
   ]
  },
  {
   "cell_type": "code",
   "execution_count": 15,
   "id": "dda64d91-0dc7-4f13-8f27-a321cbc9c99b",
   "metadata": {},
   "outputs": [
    {
     "name": "stdout",
     "output_type": "stream",
     "text": [
      "feature         start end    notes\n",
      "promoter             0  6413 ['promoter for bacteriophage T7 RNA polymerase']\n",
      "protein_bind         2    27 ['The lac repressor binds to the lac operator to inhibit transcription in E. coli. This inhibition can be relieved by adding lactose or isopropyl-β-D-thiogalactopyranoside (IPTG).']\n",
      "RBS                 41    64 ['efficient ribosome binding site from bacteriophage T7 gene 10 (Olins and Rangwala, 1989)']\n",
      "CDS                 82   100 None\n",
      "promoter           213   232 ['promoter for bacteriophage T7 RNA polymerase']\n",
      "protein_bind       232   257 ['The lac repressor binds to the lac operator to inhibit transcription in E. coli. This inhibition can be relieved by adding lactose or isopropyl-β-D-thiogalactopyranoside (IPTG).']\n",
      "CDS                302   326 None\n",
      "CDS               1361  1406 None\n",
      "primer_bind       1443  1462 None\n",
      "terminator        1457  1505 ['transcription terminator for bacteriophage T7 RNA polymerase']\n",
      "rep_origin        1541  1997 ['f1 bacteriophage origin of replication; arrow indicates direction of (+) strand synthesis']\n",
      "primer_bind       1628  1648 None\n",
      "primer_bind       1838  1860 None\n",
      "CDS               2111  2972 ['confers resistance to ampicillin, carbenicillin, and related antibiotics']\n",
      "primer_bind       2734  2754 None\n",
      "promoter          2972  3065 None\n",
      "rep_origin        3145  3734 ['high-copy-number ColE1/pMB1/pBR322/pUC origin of replication']\n",
      "primer_bind       3486  3496 None\n",
      "primer_bind       3634  3654 None\n",
      "primer_bind       3887  3905 None\n",
      "misc_feature      3919  4059 ['basis of mobility region from pBR322']\n",
      "primer_bind       3984  4004 None\n",
      "primer_bind       4144  4167 None\n",
      "CDS               4160  4352 None\n",
      "CDS               4923  6006 ['The lac repressor binds to the lac operator to inhibit transcription in E. coli. This inhibition can be relieved by adding lactose or isopropyl-β-D-thiogalactopyranoside (IPTG).']\n",
      "primer_bind       5967  5987 None\n",
      "promoter          6006  6084 ['']\n",
      "primer_bind       6149  6159 None\n",
      "primer_bind       6289  6309 None\n"
     ]
    }
   ],
   "source": [
    "file_path = './data/vector/addgene-plasmid-232118-sequence-465789.dna'\n",
    "sg_plasmid = parse_snapgene(file_path)[0]\n",
    "# sg_plasmid.features\n",
    "\n",
    "def feature_table(sequence):\n",
    "    sorted_feat = sorted(sequence.features, key=lambda x: int(x.location.start))\n",
    "    \n",
    "    # misc_feature is MCS?\n",
    "    print(f\"{'feature':15} {'start':6}{'end':6} {'notes'}\")\n",
    "    for feature in sorted_feat:\n",
    "        start = feature.location.start\n",
    "        end = feature.location.end\n",
    "        print(f\"{feature.type:15} {start:6d}{end:6d} {feature.qualifiers.get(\"note\")}\")\n",
    "        #print(feature.type, feature.location, feature.qualifiers.get(\"note\"))\n",
    "\n",
    "feature_table(sg_plasmid)"
   ]
  },
  {
   "cell_type": "code",
   "execution_count": null,
   "id": "f352ce09-07ff-40db-9758-3bcda1516551",
   "metadata": {},
   "outputs": [],
   "source": [
    "def load_from_genebank(email, sequence):\n",
    "    gb = Genbank(users_email=email)  \n",
    "    seq = gb.nucleotide(sequence)   \n",
    "    return seq"
   ]
  },
  {
   "cell_type": "code",
   "execution_count": null,
   "id": "967a63f2-f3f7-49fa-bf14-6550fd4744fc",
   "metadata": {},
   "outputs": [],
   "source": [
    "plasmid = load_from_genebank(email, sequence=\"PP098729.1\")"
   ]
  },
  {
   "cell_type": "code",
   "execution_count": 25,
   "id": "92bf63bf-2650-4ab5-bfb9-c4144490c350",
   "metadata": {},
   "outputs": [
    {
     "name": "stdout",
     "output_type": "stream",
     "text": [
      "source [0:6074](+) None\n",
      "misc_feature [311:1001](+) ['similar to ART; ADP-ribosyl transferase (ART) domain of PARP1 from Mouse, in frame with S-tag']\n"
     ]
    }
   ],
   "source": [
    "# misc_feature is MCS?\n",
    "for feature in plasmid.features:\n",
    "    print(feature.type, feature.location, feature.qualifiers.get(\"note\"))"
   ]
  },
  {
   "cell_type": "code",
   "execution_count": 26,
   "id": "a5c3e79d-77ed-45c0-b9c0-efc2621bdb46",
   "metadata": {},
   "outputs": [
    {
     "data": {
      "text/plain": [
       "943"
      ]
     },
     "execution_count": 26,
     "metadata": {},
     "output_type": "execute_result"
    }
   ],
   "source": [
    "# plasmid.annotations\n",
    "cut_sites = {}\n",
    "for enzyme in AllEnzymes:\n",
    "    cut = enzyme.search(plasmid.seq)\n",
    "    if cut:\n",
    "        cut_sites[enzyme] = cut\n",
    "\n",
    "len(cut_sites.keys())"
   ]
  },
  {
   "cell_type": "code",
   "execution_count": null,
   "id": "bb371dbf-448c-4ef3-9060-dabbe69b52f2",
   "metadata": {},
   "outputs": [],
   "source": []
  }
 ],
 "metadata": {
  "kernelspec": {
   "display_name": "Python 3 (ipykernel)",
   "language": "python",
   "name": "python3"
  },
  "language_info": {
   "codemirror_mode": {
    "name": "ipython",
    "version": 3
   },
   "file_extension": ".py",
   "mimetype": "text/x-python",
   "name": "python",
   "nbconvert_exporter": "python",
   "pygments_lexer": "ipython3",
   "version": "3.13.5"
  }
 },
 "nbformat": 4,
 "nbformat_minor": 5
}
