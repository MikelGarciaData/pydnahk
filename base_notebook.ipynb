{
 "cells": [
  {
   "cell_type": "code",
   "execution_count": 4,
   "id": "e107f3a5-52b2-4e0b-ab04-d0f78490c7ab",
   "metadata": {},
   "outputs": [],
   "source": [
    "# retrieve plasmid sequence from GenBank\n",
    "from pydna.genbank import Genbank\n"
   ]
  },
  {
   "cell_type": "code",
   "execution_count": null,
   "id": "2c000a84-3d5e-4a25-ac4b-2244e119bfc7",
   "metadata": {},
   "outputs": [],
   "source": [
    "email=input(\"Enter GenBank email: \")"
   ]
  },
  {
   "cell_type": "code",
   "execution_count": 5,
   "id": "6563a70c-7a73-41ee-8c4c-9c2ad631e2f4",
   "metadata": {},
   "outputs": [],
   "source": [
    "email = \"mikelgarciadata@gmail.com\""
   ]
  },
  {
   "cell_type": "code",
   "execution_count": 6,
   "id": "dda64d91-0dc7-4f13-8f27-a321cbc9c99b",
   "metadata": {},
   "outputs": [],
   "source": [
    "gb = Genbank(users_email=email)  # NCBI requiere un correo\n",
    "plasmid = gb.nucleotide(\"2657191843\")    # Por ejemplo: \"2657191843.1\""
   ]
  },
  {
   "cell_type": "code",
   "execution_count": 8,
   "id": "a5c3e79d-77ed-45c0-b9c0-efc2621bdb46",
   "metadata": {},
   "outputs": [
    {
     "data": {
      "text/plain": [
       "{'molecule_type': 'DNA',\n",
       " 'topology': 'circular',\n",
       " 'data_file_division': 'SYN',\n",
       " 'date': '29-JAN-2024',\n",
       " 'accessions': ['PP098729'],\n",
       " 'sequence_version': 1,\n",
       " 'keywords': [''],\n",
       " 'source': 'Cloning vector pETDuet-1-ART',\n",
       " 'organism': 'Cloning vector pETDuet-1-ART',\n",
       " 'taxonomy': ['other sequences', 'artificial sequences', 'vectors'],\n",
       " 'references': [Reference(title='Type III secretion system effector YfiD inhibits the activation of host poly(ADP-ribose) polymerase-1 to promote bacterial infection', ...),\n",
       "  Reference(title='Direct Submission', ...)],\n",
       " 'structured_comment': defaultdict(dict,\n",
       "             {'Assembly-Data': {'Sequencing Technology': 'Sanger dideoxy sequencing'}})}"
      ]
     },
     "execution_count": 8,
     "metadata": {},
     "output_type": "execute_result"
    }
   ],
   "source": [
    "plasmid.annotations"
   ]
  },
  {
   "cell_type": "code",
   "execution_count": null,
   "id": "bb371dbf-448c-4ef3-9060-dabbe69b52f2",
   "metadata": {},
   "outputs": [],
   "source": []
  }
 ],
 "metadata": {
  "kernelspec": {
   "display_name": "Python 3 (ipykernel)",
   "language": "python",
   "name": "python3"
  },
  "language_info": {
   "codemirror_mode": {
    "name": "ipython",
    "version": 3
   },
   "file_extension": ".py",
   "mimetype": "text/x-python",
   "name": "python",
   "nbconvert_exporter": "python",
   "pygments_lexer": "ipython3",
   "version": "3.13.5"
  }
 },
 "nbformat": 4,
 "nbformat_minor": 5
}
